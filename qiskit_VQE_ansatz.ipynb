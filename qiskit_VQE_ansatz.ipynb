{
 "cells": [
  {
   "cell_type": "code",
   "execution_count": 1,
   "metadata": {},
   "outputs": [],
   "source": [
    "def generate_sycamore(n, m):\n",
    "    res_list = []\n",
    "    for row in range(n - 1):\n",
    "        for col in range(m):\n",
    "\n",
    "            c_index = m * row + col\n",
    "            t_index = (m) * (row + 1) + col\n",
    "            temp = [c_index, t_index]\n",
    "            res_list.append(temp)\n",
    "    for row in range(1, n):\n",
    "        if row % 2 == 1:\n",
    "            for col in range(m - 1):\n",
    "                c_index = m * row + col\n",
    "                t_index = (m) * (row - 1) + col + 1\n",
    "                temp = [c_index, t_index]\n",
    "                res_list.append(temp)\n",
    "        else:\n",
    "            for col in range(1, m):\n",
    "                c_index = m * row + col\n",
    "                t_index = (m) * (row - 1) + col - 1\n",
    "                temp = [c_index, t_index]\n",
    "                res_list.append(temp)\n",
    "\n",
    "    return res_list"
   ]
  },
  {
   "cell_type": "code",
   "execution_count": 2,
   "metadata": {},
   "outputs": [
    {
     "name": "stderr",
     "output_type": "stream",
     "text": [
      "/common/home/zl606/qiskit-nature/qiskit_nature/deprecation.py:297: PauliSumOpDeprecationWarning: PauliSumOp is deprecated as of version 0.6.0 and support for them will be removed no sooner than 3 months after the release. Instead, use SparsePauliOp. You can switch to SparsePauliOp immediately, by setting `qiskit_nature.settings.use_pauli_sum_op` to `False`.\n",
      "  return func(*args, **kwargs)\n"
     ]
    }
   ],
   "source": [
    "from qiskit_nature.second_q.drivers import PySCFDriver\n",
    "driver = PySCFDriver(atom=\"H 0 0 0; H 0 0 0.735\", basis=\"sto-3g\")\n",
    "problem = driver.run()\n",
    "from qiskit_nature.second_q.mappers import JordanWignerMapper\n",
    "mapper = JordanWignerMapper()\n",
    "from qiskit_nature.second_q.circuit.library import UCCSD, HartreeFock\n",
    "ansatz = UCCSD(\n",
    "    problem.num_spatial_orbitals,\n",
    "    problem.num_particles,\n",
    "    mapper,\n",
    "    initial_state=HartreeFock(\n",
    "        problem.num_spatial_orbitals,\n",
    "        problem.num_particles,\n",
    "        mapper,\n",
    "    ),\n",
    ")"
   ]
  },
  {
   "cell_type": "code",
   "execution_count": 3,
   "metadata": {},
   "outputs": [
    {
     "data": {
      "image/png": "[encoded data removed]",
      "text/plain": [
       "<Figure size 1591.6x565.88 with 1 Axes>"
      ]
     },
     "execution_count": 3,
     "metadata": {},
     "output_type": "execute_result"
    }
   ],
   "source": [
    "ansatz.decompose(reps=2).draw(output='mpl')"
   ]
  },
  {
   "cell_type": "code",
   "execution_count": 4,
   "metadata": {},
   "outputs": [
    {
     "name": "stdout",
     "output_type": "stream",
     "text": [
      "the trans circuit has depth of 85 with gates are OrderedDict([('cx', 50), ('u1', 30), ('u2', 28), ('u3', 1)])\n"
     ]
    }
   ],
   "source": [
    "from qiskit.providers.fake_provider import FakeMelbourne\n",
    "from qiskit import transpile\n",
    "ansatz_decompose = ansatz.decompose(reps=3)\n",
    "ansatz_trans = transpile(ansatz_decompose, backend=FakeMelbourne(),routing_method='sabre',optimization_level=2)\n",
    "print(f'the trans circuit has depth of {ansatz_trans.depth()} with gates are {ansatz_trans.count_ops()}')"
   ]
  },
  {
   "cell_type": "code",
   "execution_count": 5,
   "metadata": {},
   "outputs": [
    {
     "name": "stdout",
     "output_type": "stream",
     "text": [
      "the trans circuit has depth of 68 with gates are OrderedDict([('cx', 50), ('u3', 26), ('rz', 12), ('h', 5)])\n"
     ]
    }
   ],
   "source": [
    "ansatz_decompose = ansatz.decompose(reps=3)\n",
    "coupling_map = [[i, i + 1] for i in range(50 - 1)]\n",
    "ansatz_trans = transpile(ansatz_decompose, coupling_map = coupling_map,routing_method='sabre',optimization_level=2)\n",
    "print(f'the trans circuit has depth of {ansatz_trans.depth()} with gates are {ansatz_trans.count_ops()}')"
   ]
  },
  {
   "cell_type": "code",
   "execution_count": 6,
   "metadata": {},
   "outputs": [
    {
     "name": "stdout",
     "output_type": "stream",
     "text": [
      "the trans circuit has depth of 68 with gates are OrderedDict([('cx', 50), ('u3', 26), ('rz', 12), ('h', 5)])\n"
     ]
    }
   ],
   "source": [
    "ansatz_decompose = ansatz.decompose(reps=3)\n",
    "coupling_map = generate_sycamore(8,8)\n",
    "ansatz_trans = transpile(ansatz_decompose, coupling_map = coupling_map,routing_method='sabre',optimization_level=2)\n",
    "print(f'the trans circuit has depth of {ansatz_trans.depth()} with gates are {ansatz_trans.count_ops()}')"
   ]
  },
  {
   "cell_type": "code",
   "execution_count": 7,
   "metadata": {},
   "outputs": [
    {
     "name": "stdout",
     "output_type": "stream",
     "text": [
      "the trans circuit has depth of 14399 with gates are OrderedDict([('cx', 7705), ('u2', 7339), ('u1', 1487)])\n",
      "the trans circuit has depth of 8566 with gates are OrderedDict([('cx', 7216), ('u3', 1592), ('rz', 640), ('h', 243), ('swap', 178), ('u', 1)])\n",
      "the trans circuit has depth of 10710 with gates are OrderedDict([('cx', 7244), ('h', 2540), ('u3', 1612), ('rz', 640), ('swap', 204), ('u', 1)])\n"
     ]
    }
   ],
   "source": [
    "from qiskit_nature.second_q.drivers import PySCFDriver\n",
    "driver = PySCFDriver(atom=\"H 0 0 0; Li 0 0 0.735\", basis=\"sto-3g\")\n",
    "problem = driver.run()\n",
    "from qiskit_nature.second_q.mappers import JordanWignerMapper\n",
    "mapper = JordanWignerMapper()\n",
    "from qiskit_nature.second_q.circuit.library import UCCSD, HartreeFock\n",
    "ansatz = UCCSD(\n",
    "    problem.num_spatial_orbitals,\n",
    "    problem.num_particles,\n",
    "    mapper,\n",
    "    initial_state=HartreeFock(\n",
    "        problem.num_spatial_orbitals,\n",
    "        problem.num_particles,\n",
    "        mapper,\n",
    "    ),\n",
    ")\n",
    "ansatz_decompose = ansatz.decompose(reps=3)\n",
    "ansatz_trans = transpile(ansatz_decompose, backend=FakeMelbourne(),routing_method='sabre',optimization_level=2)\n",
    "print(f'the trans circuit has depth of {ansatz_trans.depth()} with gates are {ansatz_trans.count_ops()}')\n",
    "ansatz_decompose = ansatz.decompose(reps=3)\n",
    "coupling_map = [[i, i + 1] for i in range(50 - 1)]\n",
    "ansatz_trans = transpile(ansatz_decompose, coupling_map = coupling_map,routing_method='sabre',optimization_level=2)\n",
    "print(f'the trans circuit has depth of {ansatz_trans.depth()} with gates are {ansatz_trans.count_ops()}')\n",
    "ansatz_decompose = ansatz.decompose(reps=3)\n",
    "coupling_map = generate_sycamore(8,8)\n",
    "ansatz_trans = transpile(ansatz_decompose, coupling_map = coupling_map,routing_method='sabre',optimization_level=2)\n",
    "print(f'the trans circuit has depth of {ansatz_trans.depth()} with gates are {ansatz_trans.count_ops()}')"
   ]
  },
  {
   "cell_type": "code",
   "execution_count": 8,
   "metadata": {},
   "outputs": [
    {
     "data": {
      "image/png": "[encoded data removed]",
      "text/plain": [
       "<Figure size 432x288 with 1 Axes>"
      ]
     },
     "metadata": {
      "needs_background": "light"
     },
     "output_type": "display_data"
    }
   ],
   "source": [
    "import numpy as np\n",
    "import matplotlib.pyplot as plt\n",
    "\n",
    "# Data\n",
    "data_H2 = np.array([85, 87, 68])\n",
    "data_HLi = np.array([13451, 9603, 11052])\n",
    "labels = [\"heavy-hexagon\", \"linear\", \"sycamore\"]\n",
    "\n",
    "# Bar width\n",
    "bar_width = 0.6\n",
    "\n",
    "# The x position for the groups\n",
    "r1 = np.arange(len(data_H2)) * 2\n",
    "r2 = [x + bar_width for x in r1]\n",
    "\n",
    "# Create the bars\n",
    "plt.bar(r1, data_H2, width=bar_width, color='blue', edgecolor='grey', label='H2')\n",
    "plt.bar(r2, data_HLi, width=bar_width, color='red', edgecolor='grey', label='H-Li')\n",
    "\n",
    "# Add xticks on the middle of the group bars\n",
    "plt.xlabel('Coupling Map', fontweight='bold')\n",
    "plt.xticks([r + bar_width/2 for r in r1], labels,rotation=45)\n",
    "\n",
    "# Create legend & Show graphic\n",
    "plt.ylabel('Value')\n",
    "plt.yscale('log')\n",
    "plt.title('Circuit Depth for H2 and H-Li data')\n",
    "plt.legend()\n",
    "\n",
    "# Show the plot\n",
    "plt.show()\n"
   ]
  },
  {
   "cell_type": "code",
   "execution_count": 9,
   "metadata": {},
   "outputs": [
    {
     "data": {
      "image/png": "[encoded data removed]",
      "text/plain": [
       "<Figure size 432x288 with 1 Axes>"
      ]
     },
     "metadata": {
      "needs_background": "light"
     },
     "output_type": "display_data"
    }
   ],
   "source": [
    "import numpy as np\n",
    "import matplotlib.pyplot as plt\n",
    "\n",
    "# Data\n",
    "data_H2 = np.array([50, 50, 50])\n",
    "data_HLi = np.array([7651, 7218, 7220])\n",
    "labels = [\"heavy-hexagon\", \"linear\", \"sycamore\"]\n",
    "\n",
    "# Bar width\n",
    "bar_width = 0.6\n",
    "\n",
    "# The x position for the groups\n",
    "r1 = np.arange(len(data_H2)) * 2\n",
    "r2 = [x + bar_width for x in r1]\n",
    "\n",
    "# Create the bars\n",
    "plt.bar(r1, data_H2, width=bar_width, color='blue', edgecolor='grey', label='H2')\n",
    "plt.bar(r2, data_HLi, width=bar_width, color='red', edgecolor='grey', label='H-Li')\n",
    "\n",
    "# Add xticks on the middle of the group bars\n",
    "plt.xlabel('Coupling Map', fontweight='bold')\n",
    "plt.xticks([r + bar_width/2 for r in r1], labels,rotation=45)\n",
    "\n",
    "# Create legend & Show graphic\n",
    "plt.ylabel('Value')\n",
    "plt.yscale('log')\n",
    "plt.title('CX gate counts for H2 and H-Li data')\n",
    "plt.legend()\n",
    "\n",
    "# Show the plot\n",
    "plt.show()\n"
   ]
  }
 ],
 "metadata": {
  "kernelspec": {
   "display_name": "base",
   "language": "python",
   "name": "python3"
  },
  "language_info": {
   "codemirror_mode": {
    "name": "ipython",
    "version": 3
   },
   "file_extension": ".py",
   "mimetype": "text/x-python",
   "name": "python",
   "nbconvert_exporter": "python",
   "pygments_lexer": "ipython3",
   "version": "3.8.10"
  },
  "orig_nbformat": 4
 },
 "nbformat": 4,
 "nbformat_minor": 2
}
